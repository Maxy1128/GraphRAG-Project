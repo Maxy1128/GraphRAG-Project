{
 "cells": [
  {
   "cell_type": "code",
   "execution_count": 1,
   "metadata": {},
   "outputs": [],
   "source": [
    "# Copyright (c) 2024 Microsoft Corporation.\n",
    "# Licensed under the MIT License."
   ]
  },
  {
   "cell_type": "code",
   "execution_count": 2,
   "metadata": {},
   "outputs": [],
   "source": [
    "import os\n",
    "\n",
    "import pandas as pd\n",
    "import tiktoken\n",
    "\n",
    "from graphrag.query.context_builder.entity_extraction import EntityVectorStoreKey\n",
    "from graphrag.query.indexer_adapters import (\n",
    "    read_indexer_covariates,\n",
    "    read_indexer_entities,\n",
    "    read_indexer_relationships,\n",
    "    read_indexer_reports,\n",
    "    read_indexer_text_units,\n",
    ")\n",
    "from graphrag.query.question_gen.local_gen import LocalQuestionGen\n",
    "from graphrag.query.structured_search.local_search.mixed_context import (\n",
    "    LocalSearchMixedContext,\n",
    ")\n",
    "from graphrag.query.structured_search.local_search.search import LocalSearch\n",
    "from graphrag.vector_stores.lancedb import LanceDBVectorStore"
   ]
  },
  {
   "cell_type": "markdown",
   "metadata": {},
   "source": [
    "## Local Search Example\n",
    "\n",
    "Local search method generates answers by combining relevant data from the AI-extracted knowledge-graph with text chunks of the raw documents. This method is suitable for questions that require an understanding of specific entities mentioned in the documents (e.g. What are the healing properties of chamomile?)."
   ]
  },
  {
   "cell_type": "markdown",
   "metadata": {},
   "source": [
    "### Load text units and graph data tables as context for local search\n",
    "\n",
    "- In this test we first load indexing outputs from parquet files to dataframes, then convert these dataframes into collections of data objects aligning with the knowledge model."
   ]
  },
  {
   "cell_type": "markdown",
   "metadata": {},
   "source": [
    "### Load tables to dataframes"
   ]
  },
  {
   "cell_type": "code",
   "execution_count": null,
   "metadata": {},
   "outputs": [],
   "source": [
    "INPUT_DIR = \"your_input_directory\"  \n",
    "LANCEDB_URI = f\"{INPUT_DIR}/lancedb\"\n",
    "\n",
    "COMMUNITY_REPORT_TABLE = \"community_reports\"\n",
    "ENTITY_TABLE = \"entities\"\n",
    "COMMUNITY_TABLE = \"communities\"\n",
    "RELATIONSHIP_TABLE = \"relationships\"\n",
    "COVARIATE_TABLE = \"covariates\"\n",
    "TEXT_UNIT_TABLE = \"text_units\"\n",
    "COMMUNITY_LEVEL = 2"
   ]
  },
  {
   "cell_type": "markdown",
   "metadata": {},
   "source": [
    "#### Read entities"
   ]
  },
  {
   "cell_type": "code",
   "execution_count": 21,
   "metadata": {},
   "outputs": [
    {
     "name": "stdout",
     "output_type": "stream",
     "text": [
      "Entity count: 1320\n"
     ]
    },
    {
     "data": {
      "text/html": [
       "<div>\n",
       "<style scoped>\n",
       "    .dataframe tbody tr th:only-of-type {\n",
       "        vertical-align: middle;\n",
       "    }\n",
       "\n",
       "    .dataframe tbody tr th {\n",
       "        vertical-align: top;\n",
       "    }\n",
       "\n",
       "    .dataframe thead th {\n",
       "        text-align: right;\n",
       "    }\n",
       "</style>\n",
       "<table border=\"1\" class=\"dataframe\">\n",
       "  <thead>\n",
       "    <tr style=\"text-align: right;\">\n",
       "      <th></th>\n",
       "      <th>id</th>\n",
       "      <th>human_readable_id</th>\n",
       "      <th>title</th>\n",
       "      <th>type</th>\n",
       "      <th>description</th>\n",
       "      <th>text_unit_ids</th>\n",
       "      <th>frequency</th>\n",
       "      <th>degree</th>\n",
       "      <th>x</th>\n",
       "      <th>y</th>\n",
       "    </tr>\n",
       "  </thead>\n",
       "  <tbody>\n",
       "    <tr>\n",
       "      <th>0</th>\n",
       "      <td>0c5c2c9b-523d-418d-b849-7cc6a19421cb</td>\n",
       "      <td>0</td>\n",
       "      <td>P453307765</td>\n",
       "      <td>PREVIOUS BOARD OF DIRECTOR</td>\n",
       "      <td>P453307765, named FANG LIU, is an individual w...</td>\n",
       "      <td>[edc26110692c720c53dbb8cf9ccb9faa13a5a5a4bcae5...</td>\n",
       "      <td>1</td>\n",
       "      <td>3</td>\n",
       "      <td>0.0</td>\n",
       "      <td>0.0</td>\n",
       "    </tr>\n",
       "    <tr>\n",
       "      <th>1</th>\n",
       "      <td>f4871c44-bf21-4796-bda1-8543cf45e234</td>\n",
       "      <td>1</td>\n",
       "      <td>CN</td>\n",
       "      <td>LOCATION</td>\n",
       "      <td>The entity \"CN\" refers to the ISO country code...</td>\n",
       "      <td>[edc26110692c720c53dbb8cf9ccb9faa13a5a5a4bcae5...</td>\n",
       "      <td>202</td>\n",
       "      <td>201</td>\n",
       "      <td>0.0</td>\n",
       "      <td>0.0</td>\n",
       "    </tr>\n",
       "    <tr>\n",
       "      <th>2</th>\n",
       "      <td>4cfcc9c4-5b66-49ff-9ffa-d22bd2c6cbcf</td>\n",
       "      <td>2</td>\n",
       "      <td>IN0010328049</td>\n",
       "      <td>COMPANY</td>\n",
       "      <td>IN0010328049, also known as Cosco Merchants Pv...</td>\n",
       "      <td>[a4a0fb6768e03c3890e9cfa1d893f93862b89429b1149...</td>\n",
       "      <td>2</td>\n",
       "      <td>3</td>\n",
       "      <td>0.0</td>\n",
       "      <td>0.0</td>\n",
       "    </tr>\n",
       "    <tr>\n",
       "      <th>3</th>\n",
       "      <td>ceed1a15-51de-41cb-9ac5-f30130c87fde</td>\n",
       "      <td>3</td>\n",
       "      <td>IN</td>\n",
       "      <td>LOCATION</td>\n",
       "      <td>The entity \"IN\" represents India, a country wh...</td>\n",
       "      <td>[a4a0fb6768e03c3890e9cfa1d893f93862b89429b1149...</td>\n",
       "      <td>150</td>\n",
       "      <td>150</td>\n",
       "      <td>0.0</td>\n",
       "      <td>0.0</td>\n",
       "    </tr>\n",
       "    <tr>\n",
       "      <th>4</th>\n",
       "      <td>b54628aa-9b96-48a4-91d0-cc465bcc23fe</td>\n",
       "      <td>4</td>\n",
       "      <td>P582673405</td>\n",
       "      <td>CURRENT BOARD OF DIRECTOR</td>\n",
       "      <td>GANGWEI GU, identified by the entity number P5...</td>\n",
       "      <td>[ed5ed488725aeb71d61236bc128ac24abecacfaae95e1...</td>\n",
       "      <td>2</td>\n",
       "      <td>3</td>\n",
       "      <td>0.0</td>\n",
       "      <td>0.0</td>\n",
       "    </tr>\n",
       "  </tbody>\n",
       "</table>\n",
       "</div>"
      ],
      "text/plain": [
       "                                     id  human_readable_id         title  \\\n",
       "0  0c5c2c9b-523d-418d-b849-7cc6a19421cb                  0    P453307765   \n",
       "1  f4871c44-bf21-4796-bda1-8543cf45e234                  1            CN   \n",
       "2  4cfcc9c4-5b66-49ff-9ffa-d22bd2c6cbcf                  2  IN0010328049   \n",
       "3  ceed1a15-51de-41cb-9ac5-f30130c87fde                  3            IN   \n",
       "4  b54628aa-9b96-48a4-91d0-cc465bcc23fe                  4    P582673405   \n",
       "\n",
       "                         type  \\\n",
       "0  PREVIOUS BOARD OF DIRECTOR   \n",
       "1                    LOCATION   \n",
       "2                     COMPANY   \n",
       "3                    LOCATION   \n",
       "4   CURRENT BOARD OF DIRECTOR   \n",
       "\n",
       "                                         description  \\\n",
       "0  P453307765, named FANG LIU, is an individual w...   \n",
       "1  The entity \"CN\" refers to the ISO country code...   \n",
       "2  IN0010328049, also known as Cosco Merchants Pv...   \n",
       "3  The entity \"IN\" represents India, a country wh...   \n",
       "4  GANGWEI GU, identified by the entity number P5...   \n",
       "\n",
       "                                       text_unit_ids  frequency  degree    x  \\\n",
       "0  [edc26110692c720c53dbb8cf9ccb9faa13a5a5a4bcae5...          1       3  0.0   \n",
       "1  [edc26110692c720c53dbb8cf9ccb9faa13a5a5a4bcae5...        202     201  0.0   \n",
       "2  [a4a0fb6768e03c3890e9cfa1d893f93862b89429b1149...          2       3  0.0   \n",
       "3  [a4a0fb6768e03c3890e9cfa1d893f93862b89429b1149...        150     150  0.0   \n",
       "4  [ed5ed488725aeb71d61236bc128ac24abecacfaae95e1...          2       3  0.0   \n",
       "\n",
       "     y  \n",
       "0  0.0  \n",
       "1  0.0  \n",
       "2  0.0  \n",
       "3  0.0  \n",
       "4  0.0  "
      ]
     },
     "execution_count": 21,
     "metadata": {},
     "output_type": "execute_result"
    }
   ],
   "source": [
    "# read nodes table to get community and degree data\n",
    "entity_df = pd.read_parquet(f\"{INPUT_DIR}/{ENTITY_TABLE}.parquet\")\n",
    "community_df = pd.read_parquet(f\"{INPUT_DIR}/{COMMUNITY_TABLE}.parquet\")\n",
    "\n",
    "entities = read_indexer_entities(entity_df, community_df, COMMUNITY_LEVEL)\n",
    "\n",
    "# load description embeddings to an in-memory lancedb vectorstore\n",
    "# to connect to a remote db, specify url and port values.\n",
    "description_embedding_store = LanceDBVectorStore(\n",
    "    collection_name=\"default-entity-description\",\n",
    ")\n",
    "description_embedding_store.connect(db_uri=LANCEDB_URI)\n",
    "\n",
    "print(f\"Entity count: {len(entity_df)}\")\n",
    "entity_df.head()"
   ]
  },
  {
   "cell_type": "markdown",
   "metadata": {},
   "source": [
    "#### Read relationships"
   ]
  },
  {
   "cell_type": "code",
   "execution_count": 22,
   "metadata": {},
   "outputs": [
    {
     "name": "stdout",
     "output_type": "stream",
     "text": [
      "Relationship count: 2953\n",
      "                                     id  human_readable_id        source  \\\n",
      "0  8b3b2a2c-88a5-4dee-84b7-8fe192a60bdf                  0    P453307765   \n",
      "1  3ded550a-1d13-419e-b14a-6a273f865aea                  1  IN0010328049   \n",
      "2  c4a002b1-0629-4506-b9b4-335693bde037                  2    P582673405   \n",
      "3  58ac46e7-9f81-4235-b771-7a6b15a1c1a0                  3   FR908565575   \n",
      "4  58109ecd-9a4f-4fb2-998d-72648e52c412                  4    CZ01139720   \n",
      "\n",
      "             target                                        description  \\\n",
      "0                CN              FANG LIU is a national of China (CN).   \n",
      "1                IN             IN0010328049 is located in India (IN).   \n",
      "2                CN  P582673405, GANGWEI GU, is a national of China...   \n",
      "3                FR             FR908565575 is located in France (FR).   \n",
      "4  DORMANCY HISTORY  The company CZ01139720 is analyzed using the D...   \n",
      "\n",
      "   weight  combined_degree                                      text_unit_ids  \n",
      "0     1.0              204  [edc26110692c720c53dbb8cf9ccb9faa13a5a5a4bcae5...  \n",
      "1     1.0              153  [a4a0fb6768e03c3890e9cfa1d893f93862b89429b1149...  \n",
      "2     1.0              204  [ed5ed488725aeb71d61236bc128ac24abecacfaae95e1...  \n",
      "3     1.0              121  [683a17f9319ee084962a444efa461b5463b5a0c5fe2a6...  \n",
      "4     7.0               24  [e6175801e5fb7cfcd7dc6d9bd9ba001d403bd35bc9499...  \n"
     ]
    }
   ],
   "source": [
    "relationship_df = pd.read_parquet(f\"{INPUT_DIR}/{RELATIONSHIP_TABLE}.parquet\")\n",
    "relationships = read_indexer_relationships(relationship_df)\n",
    "\n",
    "print(f\"Relationship count: {len(relationship_df)}\")\n",
    "print(relationship_df.head())"
   ]
  },
  {
   "cell_type": "code",
   "execution_count": 20,
   "metadata": {},
   "outputs": [],
   "source": [
    "# # NOTE: covariates are turned off by default, because they generally need prompt tuning to be valuable\n",
    "# # Please see the GRAPHRAG_CLAIM_* settings\n",
    "# covariate_df = pd.read_parquet(f\"{INPUT_DIR}/{COVARIATE_TABLE}.parquet\")\n",
    "\n",
    "# claims = read_indexer_covariates(covariate_df)\n",
    "\n",
    "# print(f\"Claim records: {len(claims)}\")\n",
    "# covariates = {\"claims\": claims}"
   ]
  },
  {
   "cell_type": "markdown",
   "metadata": {},
   "source": [
    "#### Read community reports"
   ]
  },
  {
   "cell_type": "code",
   "execution_count": 6,
   "metadata": {},
   "outputs": [
    {
     "name": "stdout",
     "output_type": "stream",
     "text": [
      "Report records: 252\n"
     ]
    },
    {
     "data": {
      "text/html": [
       "<div>\n",
       "<style scoped>\n",
       "    .dataframe tbody tr th:only-of-type {\n",
       "        vertical-align: middle;\n",
       "    }\n",
       "\n",
       "    .dataframe tbody tr th {\n",
       "        vertical-align: top;\n",
       "    }\n",
       "\n",
       "    .dataframe thead th {\n",
       "        text-align: right;\n",
       "    }\n",
       "</style>\n",
       "<table border=\"1\" class=\"dataframe\">\n",
       "  <thead>\n",
       "    <tr style=\"text-align: right;\">\n",
       "      <th></th>\n",
       "      <th>id</th>\n",
       "      <th>human_readable_id</th>\n",
       "      <th>community</th>\n",
       "      <th>level</th>\n",
       "      <th>parent</th>\n",
       "      <th>children</th>\n",
       "      <th>title</th>\n",
       "      <th>summary</th>\n",
       "      <th>full_content</th>\n",
       "      <th>rank</th>\n",
       "      <th>rating_explanation</th>\n",
       "      <th>findings</th>\n",
       "      <th>full_content_json</th>\n",
       "      <th>period</th>\n",
       "      <th>size</th>\n",
       "    </tr>\n",
       "  </thead>\n",
       "  <tbody>\n",
       "    <tr>\n",
       "      <th>0</th>\n",
       "      <td>52f251115070471dacbc290d3041223c</td>\n",
       "      <td>208</td>\n",
       "      <td>208</td>\n",
       "      <td>3</td>\n",
       "      <td>76</td>\n",
       "      <td>[]</td>\n",
       "      <td>Palladia Limited and Its Directors</td>\n",
       "      <td>The community centers around Palladia Limited,...</td>\n",
       "      <td># Palladia Limited and Its Directors\\n\\nThe co...</td>\n",
       "      <td>7.5</td>\n",
       "      <td>The impact severity rating is high due to the ...</td>\n",
       "      <td>[{'explanation': 'Palladia Limited, incorporat...</td>\n",
       "      <td>{\\n    \"title\": \"Palladia Limited and Its Dire...</td>\n",
       "      <td>2025-03-04</td>\n",
       "      <td>9</td>\n",
       "    </tr>\n",
       "    <tr>\n",
       "      <th>1</th>\n",
       "      <td>e2ef2d5a1e7b451480b969009534ffde</td>\n",
       "      <td>209</td>\n",
       "      <td>209</td>\n",
       "      <td>3</td>\n",
       "      <td>76</td>\n",
       "      <td>[]</td>\n",
       "      <td>Robert Carl Friedrich Simon and His Corporate ...</td>\n",
       "      <td>The community centers around Robert Carl Fried...</td>\n",
       "      <td># Robert Carl Friedrich Simon and His Corporat...</td>\n",
       "      <td>6.5</td>\n",
       "      <td>The impact severity rating is moderate to high...</td>\n",
       "      <td>[{'explanation': 'Robert Carl Friedrich Simon ...</td>\n",
       "      <td>{\\n    \"title\": \"Robert Carl Friedrich Simon a...</td>\n",
       "      <td>2025-03-04</td>\n",
       "      <td>2</td>\n",
       "    </tr>\n",
       "    <tr>\n",
       "      <th>2</th>\n",
       "      <td>101f06ff15e84928bbc1a183a5e647bb</td>\n",
       "      <td>210</td>\n",
       "      <td>210</td>\n",
       "      <td>3</td>\n",
       "      <td>76</td>\n",
       "      <td>[]</td>\n",
       "      <td>Waterval Boerdery Beleggings and John Stephen ...</td>\n",
       "      <td>The community centers around Waterval Boerdery...</td>\n",
       "      <td># Waterval Boerdery Beleggings and John Stephe...</td>\n",
       "      <td>6.5</td>\n",
       "      <td>The impact severity rating is moderate due to ...</td>\n",
       "      <td>[{'explanation': 'Waterval Boerdery Beleggings...</td>\n",
       "      <td>{\\n    \"title\": \"Waterval Boerdery Beleggings ...</td>\n",
       "      <td>2025-03-04</td>\n",
       "      <td>2</td>\n",
       "    </tr>\n",
       "    <tr>\n",
       "      <th>3</th>\n",
       "      <td>551f039844da4f75884a926104ce20ef</td>\n",
       "      <td>211</td>\n",
       "      <td>211</td>\n",
       "      <td>3</td>\n",
       "      <td>84</td>\n",
       "      <td>[]</td>\n",
       "      <td>Corporate Governance Insights: Directors of th...</td>\n",
       "      <td>This community report focuses on the directors...</td>\n",
       "      <td># Corporate Governance Insights: Directors of ...</td>\n",
       "      <td>8.5</td>\n",
       "      <td>The impact severity rating is high due to the ...</td>\n",
       "      <td>[{'explanation': 'Chen Ming, also known by the...</td>\n",
       "      <td>{\\n    \"title\": \"Corporate Governance Insights...</td>\n",
       "      <td>2025-03-04</td>\n",
       "      <td>5</td>\n",
       "    </tr>\n",
       "    <tr>\n",
       "      <th>4</th>\n",
       "      <td>6106498dbbe54cdaa9cefab9788940db</td>\n",
       "      <td>212</td>\n",
       "      <td>212</td>\n",
       "      <td>3</td>\n",
       "      <td>84</td>\n",
       "      <td>[]</td>\n",
       "      <td>GBFC022923 and Its Directors</td>\n",
       "      <td>The community centers around GBFC022923, a dis...</td>\n",
       "      <td># GBFC022923 and Its Directors\\n\\nThe communit...</td>\n",
       "      <td>7.5</td>\n",
       "      <td>The impact severity rating is high due to the ...</td>\n",
       "      <td>[{'explanation': 'GBFC022923, also known as Ja...</td>\n",
       "      <td>{\\n    \"title\": \"GBFC022923 and Its Directors\"...</td>\n",
       "      <td>2025-03-04</td>\n",
       "      <td>5</td>\n",
       "    </tr>\n",
       "  </tbody>\n",
       "</table>\n",
       "</div>"
      ],
      "text/plain": [
       "                                 id  human_readable_id  community  level  \\\n",
       "0  52f251115070471dacbc290d3041223c                208        208      3   \n",
       "1  e2ef2d5a1e7b451480b969009534ffde                209        209      3   \n",
       "2  101f06ff15e84928bbc1a183a5e647bb                210        210      3   \n",
       "3  551f039844da4f75884a926104ce20ef                211        211      3   \n",
       "4  6106498dbbe54cdaa9cefab9788940db                212        212      3   \n",
       "\n",
       "   parent children                                              title  \\\n",
       "0      76       []                 Palladia Limited and Its Directors   \n",
       "1      76       []  Robert Carl Friedrich Simon and His Corporate ...   \n",
       "2      76       []  Waterval Boerdery Beleggings and John Stephen ...   \n",
       "3      84       []  Corporate Governance Insights: Directors of th...   \n",
       "4      84       []                       GBFC022923 and Its Directors   \n",
       "\n",
       "                                             summary  \\\n",
       "0  The community centers around Palladia Limited,...   \n",
       "1  The community centers around Robert Carl Fried...   \n",
       "2  The community centers around Waterval Boerdery...   \n",
       "3  This community report focuses on the directors...   \n",
       "4  The community centers around GBFC022923, a dis...   \n",
       "\n",
       "                                        full_content  rank  \\\n",
       "0  # Palladia Limited and Its Directors\\n\\nThe co...   7.5   \n",
       "1  # Robert Carl Friedrich Simon and His Corporat...   6.5   \n",
       "2  # Waterval Boerdery Beleggings and John Stephe...   6.5   \n",
       "3  # Corporate Governance Insights: Directors of ...   8.5   \n",
       "4  # GBFC022923 and Its Directors\\n\\nThe communit...   7.5   \n",
       "\n",
       "                                  rating_explanation  \\\n",
       "0  The impact severity rating is high due to the ...   \n",
       "1  The impact severity rating is moderate to high...   \n",
       "2  The impact severity rating is moderate due to ...   \n",
       "3  The impact severity rating is high due to the ...   \n",
       "4  The impact severity rating is high due to the ...   \n",
       "\n",
       "                                            findings  \\\n",
       "0  [{'explanation': 'Palladia Limited, incorporat...   \n",
       "1  [{'explanation': 'Robert Carl Friedrich Simon ...   \n",
       "2  [{'explanation': 'Waterval Boerdery Beleggings...   \n",
       "3  [{'explanation': 'Chen Ming, also known by the...   \n",
       "4  [{'explanation': 'GBFC022923, also known as Ja...   \n",
       "\n",
       "                                   full_content_json      period  size  \n",
       "0  {\\n    \"title\": \"Palladia Limited and Its Dire...  2025-03-04     9  \n",
       "1  {\\n    \"title\": \"Robert Carl Friedrich Simon a...  2025-03-04     2  \n",
       "2  {\\n    \"title\": \"Waterval Boerdery Beleggings ...  2025-03-04     2  \n",
       "3  {\\n    \"title\": \"Corporate Governance Insights...  2025-03-04     5  \n",
       "4  {\\n    \"title\": \"GBFC022923 and Its Directors\"...  2025-03-04     5  "
      ]
     },
     "execution_count": 6,
     "metadata": {},
     "output_type": "execute_result"
    }
   ],
   "source": [
    "report_df = pd.read_parquet(f\"{INPUT_DIR}/{COMMUNITY_REPORT_TABLE}.parquet\")\n",
    "reports = read_indexer_reports(report_df, community_df, COMMUNITY_LEVEL)\n",
    "\n",
    "print(f\"Report records: {len(report_df)}\")\n",
    "report_df.head()"
   ]
  },
  {
   "cell_type": "markdown",
   "metadata": {},
   "source": [
    "#### Read text units"
   ]
  },
  {
   "cell_type": "code",
   "execution_count": 7,
   "metadata": {},
   "outputs": [
    {
     "name": "stdout",
     "output_type": "stream",
     "text": [
      "Text unit records: 1430\n"
     ]
    },
    {
     "data": {
      "text/html": [
       "<div>\n",
       "<style scoped>\n",
       "    .dataframe tbody tr th:only-of-type {\n",
       "        vertical-align: middle;\n",
       "    }\n",
       "\n",
       "    .dataframe tbody tr th {\n",
       "        vertical-align: top;\n",
       "    }\n",
       "\n",
       "    .dataframe thead th {\n",
       "        text-align: right;\n",
       "    }\n",
       "</style>\n",
       "<table border=\"1\" class=\"dataframe\">\n",
       "  <thead>\n",
       "    <tr style=\"text-align: right;\">\n",
       "      <th></th>\n",
       "      <th>id</th>\n",
       "      <th>text</th>\n",
       "      <th>document_ids</th>\n",
       "      <th>n_tokens</th>\n",
       "    </tr>\n",
       "  </thead>\n",
       "  <tbody>\n",
       "    <tr>\n",
       "      <th>0</th>\n",
       "      <td>edc26110692c720c53dbb8cf9ccb9faa13a5a5a4bcae51...</td>\n",
       "      <td>#entities_id: P453307765. #typology_id_type: 1...</td>\n",
       "      <td>[002b0bdfbc351d5ad7eedaaf3837bbddcb653e1f4157e...</td>\n",
       "      <td>96</td>\n",
       "    </tr>\n",
       "    <tr>\n",
       "      <th>1</th>\n",
       "      <td>a4a0fb6768e03c3890e9cfa1d893f93862b89429b11491...</td>\n",
       "      <td>#entities_id: IN0010328049. #typology_id_type:...</td>\n",
       "      <td>[003b9817b2df66da8060e809827e6b2a0e730ae94da2d...</td>\n",
       "      <td>159</td>\n",
       "    </tr>\n",
       "    <tr>\n",
       "      <th>2</th>\n",
       "      <td>ed5ed488725aeb71d61236bc128ac24abecacfaae95e1f...</td>\n",
       "      <td>#entities_id: P582673405. #typology_id_type: 1...</td>\n",
       "      <td>[008168ec3677047bbd5305a80b7442d051781bee95d5d...</td>\n",
       "      <td>97</td>\n",
       "    </tr>\n",
       "    <tr>\n",
       "      <th>3</th>\n",
       "      <td>683a17f9319ee084962a444efa461b5463b5a0c5fe2a6f...</td>\n",
       "      <td>#entities_id: FR908565575. #typology_id_type: ...</td>\n",
       "      <td>[009281cf16e16082d5e152adb57678dc5fac9c0041a77...</td>\n",
       "      <td>148</td>\n",
       "    </tr>\n",
       "    <tr>\n",
       "      <th>4</th>\n",
       "      <td>e6175801e5fb7cfcd7dc6d9bd9ba001d403bd35bc94993...</td>\n",
       "      <td>#bvd_id_number: CZ01139720. #methodology_id: 6...</td>\n",
       "      <td>[00dcc74cb38c7aae10bcc8a2809d96fe41c723feb653b...</td>\n",
       "      <td>166</td>\n",
       "    </tr>\n",
       "  </tbody>\n",
       "</table>\n",
       "</div>"
      ],
      "text/plain": [
       "                                                  id  \\\n",
       "0  edc26110692c720c53dbb8cf9ccb9faa13a5a5a4bcae51...   \n",
       "1  a4a0fb6768e03c3890e9cfa1d893f93862b89429b11491...   \n",
       "2  ed5ed488725aeb71d61236bc128ac24abecacfaae95e1f...   \n",
       "3  683a17f9319ee084962a444efa461b5463b5a0c5fe2a6f...   \n",
       "4  e6175801e5fb7cfcd7dc6d9bd9ba001d403bd35bc94993...   \n",
       "\n",
       "                                                text  \\\n",
       "0  #entities_id: P453307765. #typology_id_type: 1...   \n",
       "1  #entities_id: IN0010328049. #typology_id_type:...   \n",
       "2  #entities_id: P582673405. #typology_id_type: 1...   \n",
       "3  #entities_id: FR908565575. #typology_id_type: ...   \n",
       "4  #bvd_id_number: CZ01139720. #methodology_id: 6...   \n",
       "\n",
       "                                        document_ids  n_tokens  \n",
       "0  [002b0bdfbc351d5ad7eedaaf3837bbddcb653e1f4157e...        96  \n",
       "1  [003b9817b2df66da8060e809827e6b2a0e730ae94da2d...       159  \n",
       "2  [008168ec3677047bbd5305a80b7442d051781bee95d5d...        97  \n",
       "3  [009281cf16e16082d5e152adb57678dc5fac9c0041a77...       148  \n",
       "4  [00dcc74cb38c7aae10bcc8a2809d96fe41c723feb653b...       166  "
      ]
     },
     "execution_count": 7,
     "metadata": {},
     "output_type": "execute_result"
    }
   ],
   "source": [
    "text_unit_df = pd.read_parquet(f\"{INPUT_DIR}/{TEXT_UNIT_TABLE}.parquet\")\n",
    "text_units = read_indexer_text_units(text_unit_df)\n",
    "\n",
    "print(f\"Text unit records: {len(text_unit_df)}\")\n",
    "text_unit_df.head()"
   ]
  },
  {
   "cell_type": "code",
   "execution_count": null,
   "metadata": {},
   "outputs": [],
   "source": [
    "from graphrag.config.enums import ModelType\n",
    "from graphrag.config.models.language_model_config import LanguageModelConfig\n",
    "from graphrag.language_model.manager import ModelManager\n",
    "\n",
    "api_key = \"your api key\"\n",
    "llm_model = \"gpt-4o-mini\"\n",
    "embedding_model = \"text-embedding-3-small\"\n",
    "\n",
    "\n",
    "chat_config = LanguageModelConfig(\n",
    "    api_key=api_key,\n",
    "    type=ModelType.OpenAIChat,\n",
    "    model=llm_model,\n",
    "    max_retries=20,\n",
    ")\n",
    "chat_model = ModelManager().get_or_create_chat_model(\n",
    "    name=\"local_search\",\n",
    "    model_type=ModelType.OpenAIChat,\n",
    "    config=chat_config,\n",
    ")\n",
    "\n",
    "token_encoder = tiktoken.encoding_for_model(llm_model)\n",
    "embedding_config = LanguageModelConfig(\n",
    "    api_key=api_key,\n",
    "    type=ModelType.OpenAIEmbedding,\n",
    "    model=embedding_model,\n",
    "    max_retries=20,\n",
    ")\n",
    "\n",
    "text_embedder = ModelManager().get_or_create_embedding_model(\n",
    "    name=\"local_search_embedding\",\n",
    "    model_type=ModelType.OpenAIEmbedding,\n",
    "    config=embedding_config,\n",
    ")"
   ]
  },
  {
   "cell_type": "markdown",
   "metadata": {},
   "source": [
    "### Create local search context builder"
   ]
  },
  {
   "cell_type": "code",
   "execution_count": 9,
   "metadata": {},
   "outputs": [],
   "source": [
    "context_builder = LocalSearchMixedContext(\n",
    "    community_reports=reports,\n",
    "    text_units=text_units,\n",
    "    entities=entities,\n",
    "    relationships=relationships,\n",
    "    # if you did not run covariates during indexing, set this to None\n",
    "    covariates=None,\n",
    "    entity_text_embeddings=description_embedding_store,\n",
    "    embedding_vectorstore_key=EntityVectorStoreKey.ID,  # if the vectorstore uses entity title as ids, set this to EntityVectorStoreKey.TITLE\n",
    "    text_embedder=text_embedder,\n",
    "    token_encoder=token_encoder,\n",
    ")"
   ]
  },
  {
   "cell_type": "markdown",
   "metadata": {},
   "source": [
    "### Create local search engine"
   ]
  },
  {
   "cell_type": "code",
   "execution_count": 10,
   "metadata": {},
   "outputs": [],
   "source": [
    "# text_unit_prop: proportion of context window dedicated to related text units\n",
    "# community_prop: proportion of context window dedicated to community reports.\n",
    "# The remaining proportion is dedicated to entities and relationships. Sum of text_unit_prop and community_prop should be <= 1\n",
    "# conversation_history_max_turns: maximum number of turns to include in the conversation history.\n",
    "# conversation_history_user_turns_only: if True, only include user queries in the conversation history.\n",
    "# top_k_mapped_entities: number of related entities to retrieve from the entity description embedding store.\n",
    "# top_k_relationships: control the number of out-of-network relationships to pull into the context window.\n",
    "# include_entity_rank: if True, include the entity rank in the entity table in the context window. Default entity rank = node degree.\n",
    "# include_relationship_weight: if True, include the relationship weight in the context window.\n",
    "# include_community_rank: if True, include the community rank in the context window.\n",
    "# return_candidate_context: if True, return a set of dataframes containing all candidate entity/relationship/covariate records that\n",
    "# could be relevant. Note that not all of these records will be included in the context window. The \"in_context\" column in these\n",
    "# dataframes indicates whether the record is included in the context window.\n",
    "# max_tokens: maximum number of tokens to use for the context window.\n",
    "\n",
    "\n",
    "local_context_params = {\n",
    "    \"text_unit_prop\": 0.5,\n",
    "    \"community_prop\": 0.1,\n",
    "    \"conversation_history_max_turns\": 5,\n",
    "    \"conversation_history_user_turns_only\": True,\n",
    "    \"top_k_mapped_entities\": 10,\n",
    "    \"top_k_relationships\": 10,\n",
    "    \"include_entity_rank\": True,\n",
    "    \"include_relationship_weight\": True,\n",
    "    \"include_community_rank\": False,\n",
    "    \"return_candidate_context\": False,\n",
    "    \"embedding_vectorstore_key\": EntityVectorStoreKey.ID,  # set this to EntityVectorStoreKey.TITLE if the vectorstore uses entity title as ids\n",
    "    \"max_tokens\": 12_000,  # change this based on the token limit you have on your model (if you are using a model with 8k limit, a good setting could be 5000)\n",
    "}\n",
    "\n",
    "model_params = {\n",
    "    \"max_tokens\": 2_000,  # change this based on the token limit you have on your model (if you are using a model with 8k limit, a good setting could be 1000=1500)\n",
    "    \"temperature\": 0.0,\n",
    "}"
   ]
  },
  {
   "cell_type": "code",
   "execution_count": 11,
   "metadata": {},
   "outputs": [],
   "source": [
    "search_engine = LocalSearch(\n",
    "    model=chat_model,\n",
    "    context_builder=context_builder,\n",
    "    token_encoder=token_encoder,\n",
    "    model_params=model_params,\n",
    "    context_builder_params=local_context_params,\n",
    "    response_type=\"multiple paragraphs\",  # free form text describing the response type and format, can be anything, e.g. prioritized list, single paragraph, multiple paragraphs, multiple-page report\n",
    ")"
   ]
  },
  {
   "cell_type": "markdown",
   "metadata": {},
   "source": [
    "### Run local search on sample queries"
   ]
  },
  {
   "cell_type": "code",
   "execution_count": 13,
   "metadata": {},
   "outputs": [
    {
     "name": "stdout",
     "output_type": "stream",
     "text": [
      "## Overview of Palladia Limited\n",
      "\n",
      "Palladia Limited, identified by its BvD ID number GB05396445, was a small private limited company incorporated in the United Kingdom on March 17, 2005. The company operated within the banking, insurance, and financial services sector. However, it was dissolved on February 1, 2011, indicating that it is no longer active. At the time of its dissolution, Palladia Limited had one shareholder, one current director, and one previous director, reflecting a streamlined governance structure [Data: Entities (83); Sources (248, 36)].\n",
      "\n",
      "## Governance and Directorship\n",
      "\n",
      "The governance of Palladia Limited has been scrutinized due to its atypical directorship patterns. The company was analyzed using the Atypical Directorship methodology, which highlighted potential irregularities in its management structure. Notably, the directors of Palladia Limited had a significant number of inactive directorships, raising concerns about their governance practices and the overall management of the company [Data: Relationships (560, 561)].\n",
      "\n",
      "## Implications of Atypical Directorship\n",
      "\n",
      "The analysis of Palladia Limited's directorship revealed that its directors had held numerous directorships across various entities, which could indicate conflicts of interest or a lack of focus on the company's operations. This pattern of directorship is often associated with companies that may not prioritize effective governance, potentially leading to issues such as financial mismanagement or regulatory non-compliance [Data: Relationships (560, 561)].\n",
      "\n",
      "## Conclusion\n",
      "\n",
      "In summary, Palladia Limited was a small private limited company that has since been dissolved. Its governance structure and directorship patterns have raised red flags regarding its operational legitimacy and management practices. The company's history serves as a reminder of the importance of transparency and accountability in corporate governance, particularly in sectors like banking and financial services [Data: Entities (83); Sources (248, 36)].\n"
     ]
    }
   ],
   "source": [
    "result = await search_engine.search(\"Tell me about Palladia Limited.\")\n",
    "print(result.response)"
   ]
  },
  {
   "cell_type": "code",
   "execution_count": null,
   "metadata": {},
   "outputs": [],
   "source": [
    "# question = \"Tell me about Dr. Jordan Hayes\"\n",
    "# result = await search_engine.search(question)\n",
    "# print(result.response)"
   ]
  },
  {
   "cell_type": "markdown",
   "metadata": {},
   "source": [
    "#### Inspecting the context data used to generate the response"
   ]
  },
  {
   "cell_type": "code",
   "execution_count": 26,
   "metadata": {},
   "outputs": [
    {
     "data": {
      "text/html": [
       "<div>\n",
       "<style scoped>\n",
       "    .dataframe tbody tr th:only-of-type {\n",
       "        vertical-align: middle;\n",
       "    }\n",
       "\n",
       "    .dataframe tbody tr th {\n",
       "        vertical-align: top;\n",
       "    }\n",
       "\n",
       "    .dataframe thead th {\n",
       "        text-align: right;\n",
       "    }\n",
       "</style>\n",
       "<table border=\"1\" class=\"dataframe\">\n",
       "  <thead>\n",
       "    <tr style=\"text-align: right;\">\n",
       "      <th></th>\n",
       "      <th>id</th>\n",
       "      <th>entity</th>\n",
       "      <th>description</th>\n",
       "      <th>number of relationships</th>\n",
       "      <th>in_context</th>\n",
       "    </tr>\n",
       "  </thead>\n",
       "  <tbody>\n",
       "    <tr>\n",
       "      <th>0</th>\n",
       "      <td>83</td>\n",
       "      <td>GB05396445</td>\n",
       "      <td>GB05396445, also known as Palladia Limited, is...</td>\n",
       "      <td>11</td>\n",
       "      <td>True</td>\n",
       "    </tr>\n",
       "    <tr>\n",
       "      <th>1</th>\n",
       "      <td>1036</td>\n",
       "      <td>GB04263411</td>\n",
       "      <td>GB04263411, also known as Arladene Limited, is...</td>\n",
       "      <td>4</td>\n",
       "      <td>True</td>\n",
       "    </tr>\n",
       "    <tr>\n",
       "      <th>2</th>\n",
       "      <td>835</td>\n",
       "      <td>IN0010686786</td>\n",
       "      <td>IN0010686786, identified by its BvD ID number,...</td>\n",
       "      <td>7</td>\n",
       "      <td>True</td>\n",
       "    </tr>\n",
       "    <tr>\n",
       "      <th>3</th>\n",
       "      <td>424</td>\n",
       "      <td>GB03043883</td>\n",
       "      <td>GB03043883, also known as Parcolt Limited, is ...</td>\n",
       "      <td>5</td>\n",
       "      <td>True</td>\n",
       "    </tr>\n",
       "    <tr>\n",
       "      <th>4</th>\n",
       "      <td>484</td>\n",
       "      <td>IN0000679963</td>\n",
       "      <td>IN0000679963, also known as Alba Properties &amp; ...</td>\n",
       "      <td>3</td>\n",
       "      <td>True</td>\n",
       "    </tr>\n",
       "  </tbody>\n",
       "</table>\n",
       "</div>"
      ],
      "text/plain": [
       "     id        entity                                        description  \\\n",
       "0    83    GB05396445  GB05396445, also known as Palladia Limited, is...   \n",
       "1  1036    GB04263411  GB04263411, also known as Arladene Limited, is...   \n",
       "2   835  IN0010686786  IN0010686786, identified by its BvD ID number,...   \n",
       "3   424    GB03043883  GB03043883, also known as Parcolt Limited, is ...   \n",
       "4   484  IN0000679963  IN0000679963, also known as Alba Properties & ...   \n",
       "\n",
       "  number of relationships  in_context  \n",
       "0                      11        True  \n",
       "1                       4        True  \n",
       "2                       7        True  \n",
       "3                       5        True  \n",
       "4                       3        True  "
      ]
     },
     "execution_count": 26,
     "metadata": {},
     "output_type": "execute_result"
    }
   ],
   "source": [
    "result.context_data[\"entities\"].head()\n",
    "# print(result.context_data[\"entities\"].head())"
   ]
  },
  {
   "cell_type": "code",
   "execution_count": 15,
   "metadata": {},
   "outputs": [
    {
     "name": "stdout",
     "output_type": "stream",
     "text": [
      "     id        source                 target  \\\n",
      "0   560    GB05396445  ATYPICAL DIRECTORSHIP   \n",
      "1  1555   PA437068RPP  ATYPICAL DIRECTORSHIP   \n",
      "2  2090    GB03043883  ATYPICAL DIRECTORSHIP   \n",
      "3  1642    GB04263411  ATYPICAL DIRECTORSHIP   \n",
      "4  1179  IN0010686786                     IN   \n",
      "\n",
      "                                         description weight links  in_context  \n",
      "0  The company GB05396445 is analyzed using the A...    7.0     4        True  \n",
      "1  The company PA437068RPP is analyzed using the ...    7.0     4        True  \n",
      "2  The company GB03043883 is analyzed using the A...    7.0     4        True  \n",
      "3  The company GB04263411 is analyzed using the A...    7.0     4        True  \n",
      "4             IN0010686786 is located in India (IN).    1.0     3        True  \n"
     ]
    }
   ],
   "source": [
    "# result.context_data[\"relationships\"].head()\n",
    "print(result.context_data[\"relationships\"].head())"
   ]
  },
  {
   "cell_type": "code",
   "execution_count": 17,
   "metadata": {},
   "outputs": [
    {
     "name": "stdout",
     "output_type": "stream",
     "text": [
      "    id                                               text\n",
      "0  248  #bvd_id_number: GB05396445. #methodology_id: 1...\n",
      "1   36  #entities_id: GB05396445. #typology_id_type: 0...\n",
      "2  724  #bvd_id_number: GB04263411. #methodology_id: 1...\n",
      "3  939  #entities_id: GB04263411. #typology_id_type: 0...\n",
      "4  626  #bvd_id_number: IN0010686786. #methodology_id:...\n"
     ]
    }
   ],
   "source": [
    "# result.context_data[\"sources\"].head()\n",
    "print(result.context_data[\"sources\"].head())"
   ]
  },
  {
   "cell_type": "code",
   "execution_count": 31,
   "metadata": {},
   "outputs": [
    {
     "name": "stdout",
     "output_type": "stream",
     "text": [
      "Entities: 20, Relationships: 37, Reports: 1\n"
     ]
    }
   ],
   "source": [
    "# print how many entities, relationships, and reports were included in the context window\n",
    "print(\n",
    "    f\"Entities: {len(result.context_data['entities'])}, Relationships: {len(result.context_data['relationships'])}, Reports: {len(result.context_data['reports'])}\"\n",
    ")"
   ]
  }
 ],
 "metadata": {
  "kernelspec": {
   "display_name": "graphrag2",
   "language": "python",
   "name": "python3"
  },
  "language_info": {
   "codemirror_mode": {
    "name": "ipython",
    "version": 3
   },
   "file_extension": ".py",
   "mimetype": "text/x-python",
   "name": "python",
   "nbconvert_exporter": "python",
   "pygments_lexer": "ipython3",
   "version": "3.10.2"
  }
 },
 "nbformat": 4,
 "nbformat_minor": 2
}
